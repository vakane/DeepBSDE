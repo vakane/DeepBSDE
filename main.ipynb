{
 "cells": [
  {
   "cell_type": "code",
   "execution_count": 1,
   "metadata": {},
   "outputs": [],
   "source": [
    "import copy\n",
    "import json\n",
    "import munch\n",
    "import os\n",
    "import logging\n",
    "\n",
    "from absl import app\n",
    "from absl import flags\n",
    "from absl import logging as absl_logging\n",
    "import numpy as np\n",
    "import tensorflow as tf\n",
    "\n",
    "import equation as eqn\n",
    "from solver import BSDESolver, UFModel, SharedModel, NonsharedModel, GRUModel\n",
    "import matplotlib.pyplot as plt"
   ]
  },
  {
   "cell_type": "code",
   "execution_count": 2,
   "metadata": {},
   "outputs": [],
   "source": [
    "exp_name = 'test'\n",
    "log_dir = './logs' "
   ]
  },
  {
   "cell_type": "code",
   "execution_count": 3,
   "metadata": {},
   "outputs": [],
   "source": [
    "with open('configs/pricing_default_risk_d100.json') as json_data_file:\n",
    "    config = json.load(json_data_file)\n",
    "\n",
    "config = munch.munchify(config)\n",
    "\n",
    "tf.keras.backend.set_floatx(config.net_config.dtype)"
   ]
  },
  {
   "cell_type": "code",
   "execution_count": 4,
   "metadata": {},
   "outputs": [
    {
     "data": {
      "text/plain": [
       "Munch({'eqn_config': Munch({'_comment': 'Nonlinear Black-Scholes equation with default risk in PNAS paper doi.org/10.1073/pnas.1718942115', 'eqn_name': 'PricingDefaultRisk', 'total_time': 1.0, 'dim': 100, 'num_time_interval': 40}), 'net_config': Munch({'y_init_range': [40, 50], 'num_hiddens': [110, 110], 'lr_values': [0.008, 0.008], 'lr_boundaries': [3000], 'num_iterations': 6000, 'batch_size': 64, 'valid_size': 256, 'logging_frequency': 100, 'dtype': 'float64', 'verbose': True})})"
      ]
     },
     "execution_count": 4,
     "metadata": {},
     "output_type": "execute_result"
    }
   ],
   "source": [
    "config"
   ]
  },
  {
   "cell_type": "code",
   "execution_count": 5,
   "metadata": {},
   "outputs": [],
   "source": [
    "nsh_config = copy.deepcopy(config)\n",
    "\n",
    "sh_config = copy.deepcopy(config)\n",
    "\n",
    "ufm_config = copy.deepcopy(config)\n",
    "\n",
    "rnn_config = copy.deepcopy(config)\n",
    "rnn_config.net_config.num_hiddens = [110]"
   ]
  },
  {
   "cell_type": "code",
   "execution_count": 6,
   "metadata": {},
   "outputs": [],
   "source": [
    "if not os.path.exists(log_dir):\n",
    "    os.mkdir(log_dir)"
   ]
  },
  {
   "cell_type": "code",
   "execution_count": 7,
   "metadata": {},
   "outputs": [],
   "source": [
    "path_prefix = os.path.join(log_dir, exp_name)\n",
    "\n",
    "with open('{}_config.json'.format(path_prefix), 'w') as outfile:\n",
    "    json.dump(dict((name, getattr(config, name))\n",
    "                   for name in dir(config) if not name.startswith('__')),\n",
    "              outfile, indent=2)"
   ]
  },
  {
   "cell_type": "code",
   "execution_count": 8,
   "metadata": {},
   "outputs": [],
   "source": [
    "absl_logging.get_absl_handler().setFormatter(logging.Formatter('%(levelname)-6s %(message)s'))\n",
    "absl_logging.set_verbosity('info')\n",
    "logging.info('Begin to solve %s ' % config.eqn_config.eqn_name)"
   ]
  },
  {
   "cell_type": "code",
   "execution_count": 10,
   "metadata": {},
   "outputs": [],
   "source": [
    "def train_and_save(config, model, name_suffics):\n",
    "    bsde = getattr(eqn, config.eqn_config.eqn_name)(config.eqn_config)\n",
    "    bsde_solver = BSDESolver(config, bsde, model)\n",
    "    \n",
    "    training_history = bsde_solver.train()\n",
    "    \n",
    "    np.savetxt('%s_%s_training_history.csv' % (path_prefix, name_suffics),\n",
    "               training_history,\n",
    "               fmt=['%d', '%.5e', '%.5e', '%d'],\n",
    "               delimiter=\",\",\n",
    "               header='step,loss_function,target_value,elapsed_time',\n",
    "               comments='')"
   ]
  },
  {
   "cell_type": "code",
   "execution_count": 11,
   "metadata": {},
   "outputs": [
    {
     "name": "stdout",
     "output_type": "stream",
     "text": [
      "non_shared\n",
      "shared\n",
      "univ_fun\n",
      "gru\n"
     ]
    }
   ],
   "source": [
    "for (config, model, name_suffics) in zip([nsh_config, sh_config, ufm_config, rnn_config],\n",
    "                                         [NonsharedModel, SharedModel, UFModel, GRUModel],\n",
    "                                         ['non_shared', 'shared', 'univ_fun', 'gru']\n",
    "                                        ):\n",
    "    train_and_save(config, model, name_suffics)\n",
    "    print(name_suffics)"
   ]
  },
  {
   "cell_type": "code",
   "execution_count": 12,
   "metadata": {},
   "outputs": [],
   "source": [
    "import pandas as pd"
   ]
  },
  {
   "cell_type": "code",
   "execution_count": 13,
   "metadata": {},
   "outputs": [],
   "source": [
    "model_names = ['non_shared', 'shared', 'univ_fun', 'gru']\n",
    "\n",
    "dfs = [pd.read_csv('%s_%s_training_history.csv' % (path_prefix, name_suffics))\n",
    "       for name_suffics in model_names\n",
    "      ]"
   ]
  },
  {
   "cell_type": "code",
   "execution_count": 16,
   "metadata": {},
   "outputs": [
    {
     "data": {
      "image/png": "[encoded data removed]",
      "text/plain": [
       "<Figure size 432x288 with 1 Axes>"
      ]
     },
     "metadata": {
      "needs_background": "light"
     },
     "output_type": "display_data"
    }
   ],
   "source": [
    "fig = plt.figure()\n",
    "\n",
    "for df, c in zip(dfs, ['r', 'b', 'k', 'g']):\n",
    "    _ = plt.plot(df['step'], df['loss_function'], c=c)\n",
    "    \n",
    "_ = plt.legend(['Non shared', 'Shared layer', 'Single function', 'RRN'])\n",
    "# _ = plt.plot(df_ffn['step'], df_ffn['loss_function'], c='b')"
   ]
  },
  {
   "cell_type": "code",
   "execution_count": null,
   "metadata": {},
   "outputs": [],
   "source": []
  }
 ],
 "metadata": {
  "kernelspec": {
   "display_name": ".tf2venv",
   "language": "python",
   "name": ".tf2venv"
  },
  "language_info": {
   "codemirror_mode": {
    "name": "ipython",
    "version": 3
   },
   "file_extension": ".py",
   "mimetype": "text/x-python",
   "name": "python",
   "nbconvert_exporter": "python",
   "pygments_lexer": "ipython3",
   "version": "3.7.6"
  }
 },
 "nbformat": 4,
 "nbformat_minor": 4
}
