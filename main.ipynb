{
 "cells": [
  {
   "cell_type": "code",
   "execution_count": 1,
   "metadata": {},
   "outputs": [],
   "source": [
    "import json\n",
    "import munch\n",
    "import os\n",
    "import logging\n",
    "\n",
    "from absl import app\n",
    "from absl import flags\n",
    "from absl import logging as absl_logging\n",
    "import numpy as np\n",
    "import tensorflow as tf\n",
    "\n",
    "import equation as eqn\n",
    "from solver import BSDESolver, BSDESolver_GRU\n",
    "\n",
    "import matplotlib.pyplot as plt"
   ]
  },
  {
   "cell_type": "code",
   "execution_count": 2,
   "metadata": {},
   "outputs": [],
   "source": [
    "exp_name = 'test'\n",
    "log_dir = './logs' "
   ]
  },
  {
   "cell_type": "code",
   "execution_count": 3,
   "metadata": {},
   "outputs": [],
   "source": [
    "with open('configs/pricing_default_risk_d100.json') as json_data_file:\n",
    "    config = json.load(json_data_file)\n",
    "\n",
    "config = munch.munchify(config)\n",
    "bsde = getattr(eqn, config.eqn_config.eqn_name)(config.eqn_config)\n",
    "\n",
    "tf.keras.backend.set_floatx(config.net_config.dtype)"
   ]
  },
  {
   "cell_type": "code",
   "execution_count": 25,
   "metadata": {},
   "outputs": [],
   "source": [
    "config.net_config.num_hiddens = [110]"
   ]
  },
  {
   "cell_type": "code",
   "execution_count": 26,
   "metadata": {},
   "outputs": [
    {
     "data": {
      "text/plain": [
       "Munch({'eqn_config': Munch({'_comment': 'Nonlinear Black-Scholes equation with default risk in PNAS paper doi.org/10.1073/pnas.1718942115', 'eqn_name': 'PricingDefaultRisk', 'total_time': 1.0, 'dim': 100, 'num_time_interval': 40}), 'net_config': Munch({'y_init_range': [40, 50], 'num_hiddens': [110], 'lr_values': [0.008, 0.008], 'lr_boundaries': [3000], 'num_iterations': 6000, 'batch_size': 64, 'valid_size': 256, 'logging_frequency': 100, 'dtype': 'float64', 'verbose': True})})"
      ]
     },
     "execution_count": 26,
     "metadata": {},
     "output_type": "execute_result"
    }
   ],
   "source": [
    "config"
   ]
  },
  {
   "cell_type": "code",
   "execution_count": 27,
   "metadata": {},
   "outputs": [],
   "source": [
    "if not os.path.exists(log_dir):\n",
    "    os.mkdir(log_dir)"
   ]
  },
  {
   "cell_type": "code",
   "execution_count": 28,
   "metadata": {},
   "outputs": [],
   "source": [
    "path_prefix = os.path.join(log_dir, exp_name)\n",
    "\n",
    "with open('{}_config.json'.format(path_prefix), 'w') as outfile:\n",
    "    json.dump(dict((name, getattr(config, name))\n",
    "                   for name in dir(config) if not name.startswith('__')),\n",
    "              outfile, indent=2)"
   ]
  },
  {
   "cell_type": "code",
   "execution_count": 29,
   "metadata": {},
   "outputs": [],
   "source": [
    "absl_logging.get_absl_handler().setFormatter(logging.Formatter('%(levelname)-6s %(message)s'))\n",
    "absl_logging.set_verbosity('info')\n",
    "logging.info('Begin to solve %s ' % config.eqn_config.eqn_name)"
   ]
  },
  {
   "cell_type": "code",
   "execution_count": 30,
   "metadata": {},
   "outputs": [],
   "source": [
    "bsde_gru_solver = BSDESolver_GRU(config, bsde)"
   ]
  },
  {
   "cell_type": "code",
   "execution_count": null,
   "metadata": {},
   "outputs": [],
   "source": [
    "training_history = bsde_gru_solver.train()"
   ]
  },
  {
   "cell_type": "code",
   "execution_count": null,
   "metadata": {},
   "outputs": [],
   "source": [
    "if bsde.y_init:\n",
    "    logging.info('Y0_true: %.4e' % bsde.y_init)\n",
    "    logging.info('relative error of Y0: %s',\n",
    "                 '{:.2%}'.format(abs(bsde.y_init - training_history[-1, 2])/bsde.y_init))"
   ]
  },
  {
   "cell_type": "code",
   "execution_count": null,
   "metadata": {},
   "outputs": [],
   "source": [
    "np.savetxt('{}_gru_training_history.csv'.format(path_prefix),\n",
    "           training_history,\n",
    "           fmt=['%d', '%.5e', '%.5e', '%d'],\n",
    "           delimiter=\",\",\n",
    "           header='step,loss_function,target_value,elapsed_time',\n",
    "           comments='')"
   ]
  },
  {
   "cell_type": "code",
   "execution_count": null,
   "metadata": {},
   "outputs": [],
   "source": [
    "fig = plt.figure()\n",
    "_ = plt.plot(training_history[:, 0], training_history[:, 2])"
   ]
  },
  {
   "cell_type": "code",
   "execution_count": null,
   "metadata": {},
   "outputs": [],
   "source": [
    "import pandas as pd"
   ]
  },
  {
   "cell_type": "code",
   "execution_count": null,
   "metadata": {},
   "outputs": [],
   "source": [
    "df_gru = pd.read_csv('{}_gru_training_history.csv'.format(path_prefix))\n",
    "df_ffn = pd.read_csv('{}_training_history.csv'.format(path_prefix))"
   ]
  },
  {
   "cell_type": "code",
   "execution_count": null,
   "metadata": {},
   "outputs": [],
   "source": [
    "fig = plt.figure()\n",
    "_ = plt.plot(df_gru['step'], df_gru['loss_function'], c='r')\n",
    "_ = plt.plot(df_ffn['step'], df_ffn['loss_function'], c='b')"
   ]
  },
  {
   "cell_type": "code",
   "execution_count": null,
   "metadata": {},
   "outputs": [],
   "source": []
  }
 ],
 "metadata": {
  "kernelspec": {
   "display_name": ".tf2venv",
   "language": "python",
   "name": ".tf2venv"
  },
  "language_info": {
   "codemirror_mode": {
    "name": "ipython",
    "version": 3
   },
   "file_extension": ".py",
   "mimetype": "text/x-python",
   "name": "python",
   "nbconvert_exporter": "python",
   "pygments_lexer": "ipython3",
   "version": "3.7.6"
  }
 },
 "nbformat": 4,
 "nbformat_minor": 4
}
